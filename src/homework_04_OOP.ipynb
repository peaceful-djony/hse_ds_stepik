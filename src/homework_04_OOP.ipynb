{
 "nbformat": 4,
 "nbformat_minor": 0,
 "metadata": {
  "colab": {
   "provenance": []
  },
  "kernelspec": {
   "name": "python3",
   "display_name": "Python 3 (ipykernel)",
   "language": "python"
  },
  "language_info": {
   "name": "python"
  }
 },
 "cells": [
  {
   "cell_type": "markdown",
   "source": [
    "# Домашнее задание: декораторы"
   ],
   "metadata": {
    "id": "QY4qPJPpgyIS"
   }
  },
  {
   "cell_type": "markdown",
   "source": [
    "## Импорт библиотек, установка констант"
   ],
   "metadata": {
    "id": "Chacc6YchldZ"
   }
  },
  {
   "cell_type": "code",
   "source": [
    "import requests\n",
    "import time\n",
    "import re\n",
    "\n",
    "from random import randint"
   ],
   "metadata": {
    "id": "w8iKrWvwhrFd",
    "ExecuteTime": {
     "end_time": "2024-04-18T10:18:19.068929Z",
     "start_time": "2024-04-18T10:18:18.936167Z"
    }
   },
   "outputs": [],
   "execution_count": 2
  },
  {
   "cell_type": "code",
   "source": [
    "BOOK_PATH = 'https://www.gutenberg.org/files/2638/2638-0.txt'"
   ],
   "metadata": {
    "id": "-LRkS0fSi8Np",
    "ExecuteTime": {
     "end_time": "2024-04-18T10:18:20.674323Z",
     "start_time": "2024-04-18T10:18:20.670187Z"
    }
   },
   "outputs": [],
   "execution_count": 3
  },
  {
   "cell_type": "markdown",
   "source": [
    "## Задание 1"
   ],
   "metadata": {
    "id": "kARfL8ifg4MH"
   }
  },
  {
   "cell_type": "code",
   "metadata": {
    "id": "hNHNWPhngrUl",
    "ExecuteTime": {
     "end_time": "2024-04-18T10:18:23.833904Z",
     "start_time": "2024-04-18T10:18:21.931942Z"
    }
   },
   "source": [
    "import functools\n",
    "\n",
    "\n",
    "def benchmark(func):\n",
    "    \"\"\"\n",
    "    Декоратор, выводящий время, которое заняло выполнение декорируемой функции\n",
    "    \"\"\"    \n",
    "    @functools.wraps(func)\n",
    "    def wrapper(*args, **kwargs):\n",
    "        start = time.perf_counter()\n",
    "        res = func(*args, **kwargs)\n",
    "        end = time.perf_counter() - start\n",
    "        print(f\"function \\\"{func.__name__}\\\" took {round(end, 2)} seconds\")\n",
    "        return res\n",
    "    \n",
    "    return wrapper\n",
    "\n",
    "\n",
    "@benchmark\n",
    "def download(url=BOOK_PATH):\n",
    "    \"\"\"Функция загрузки исходного текста книги\"\"\"\n",
    "    response = requests.get(url)\n",
    "    print(\"status code is:\", response.status_code)\n",
    "    \n",
    "download()"
   ],
   "outputs": [
    {
     "name": "stdout",
     "output_type": "stream",
     "text": [
      "status code is: 200\n",
      "function \"download\" took 1.89 seconds\n"
     ]
    }
   ],
   "execution_count": 4
  },
  {
   "cell_type": "markdown",
   "source": [
    "## Задание 2"
   ],
   "metadata": {
    "id": "tGlbUKjihL5n"
   }
  },
  {
   "cell_type": "code",
   "source": [
    "def logging(func):\n",
    "    \"\"\"\n",
    "    Декоратор, который выводит параметры, с которыми была вызвана функция\n",
    "    \"\"\"\n",
    "    @functools.wraps(func)\n",
    "    def wrapper(*args, **kwargs):\n",
    "        print(f\"function \\\"{func.__name__}\\\" called with args: \\\"{args}\\\" and kwargs: \\\"{kwargs}\\\"\")\n",
    "        res = func(*args, **kwargs)\n",
    "        \n",
    "        return res\n",
    "\n",
    "    return wrapper"
   ],
   "metadata": {
    "id": "wugOZDLqhNe-",
    "ExecuteTime": {
     "end_time": "2024-04-18T10:18:32.311927Z",
     "start_time": "2024-04-18T10:18:32.307205Z"
    }
   },
   "outputs": [],
   "execution_count": 5
  },
  {
   "cell_type": "markdown",
   "source": [
    "## Задание 3"
   ],
   "metadata": {
    "id": "Sq1tv5fshTfv"
   }
  },
  {
   "cell_type": "code",
   "source": [
    "def counter(func):\n",
    "    \"\"\"\n",
    "    Декоратор, считающий и выводящий количество вызовов декорируемой функции\n",
    "    \"\"\"\n",
    "    def wrapper(*args, **kwargs):\n",
    "        wrapper.cnt += 1\n",
    "        print(f\"function \\\"{func.__name__}\\\" was called {wrapper.cnt} times\")\n",
    "        res = func(*args, **kwargs)\n",
    "        return res\n",
    "    \n",
    "    wrapper.cnt = 0\n",
    "\n",
    "    return wrapper"
   ],
   "metadata": {
    "id": "9nyvuxXkhVeb",
    "ExecuteTime": {
     "end_time": "2024-04-18T10:18:34.793493Z",
     "start_time": "2024-04-18T10:18:34.787269Z"
    }
   },
   "outputs": [],
   "execution_count": 6
  },
  {
   "cell_type": "markdown",
   "source": [
    "## Задание 4"
   ],
   "metadata": {
    "id": "uHn8Adfshz5q"
   }
  },
  {
   "cell_type": "code",
   "source": [
    "def memo(func):\n",
    "  \"\"\"\n",
    "  Декоратор, запоминающий результаты исполнения функции func, чьи аргументы args должны быть хешируемыми\n",
    "  \"\"\"\n",
    "  cache = {}\n",
    "\n",
    "  def fmemo(*args):\n",
    "      cached_res = cache.get(args, None)\n",
    "      if cached_res:\n",
    "          return cached_res\n",
    "      \n",
    "      res = func(*args)\n",
    "      cache[args] = res\n",
    "      return res\n",
    "\n",
    "  fmemo.cache = cache\n",
    "  return fmemo"
   ],
   "metadata": {
    "id": "R7uu6WtGifNX",
    "ExecuteTime": {
     "end_time": "2024-04-18T10:18:36.455163Z",
     "start_time": "2024-04-18T10:18:36.448279Z"
    }
   },
   "outputs": [],
   "execution_count": 7
  },
  {
   "cell_type": "markdown",
   "source": [
    "## Тестирование"
   ],
   "metadata": {
    "id": "Zn5UQCa_izxo"
   }
  },
  {
   "cell_type": "code",
   "source": [
    "@counter\n",
    "@logging\n",
    "@benchmark\n",
    "def word_count(word, url=BOOK_PATH):\n",
    "    \"\"\"\n",
    "    Функция для посчета указанного слова на html-странице\n",
    "    \"\"\"\n",
    "\n",
    "    # отправляем запрос в библиотеку Gutenberg и забираем текст\n",
    "    raw = requests.get(url).text\n",
    "\n",
    "    # заменяем в тексте все небуквенные символы на пробелы\n",
    "    processed_book = re.sub('[\\W]+' , ' ', raw).lower()\n",
    "\n",
    "    # считаем\n",
    "    cnt = len(re.findall(word.lower(), processed_book))\n",
    "\n",
    "    return f\"Cлово {word} встречается {cnt} раз\"\n",
    "\n",
    "print(word_count('whole'))"
   ],
   "metadata": {
    "id": "CHCJ64I8i2QB",
    "ExecuteTime": {
     "end_time": "2024-04-18T10:18:42.120326Z",
     "start_time": "2024-04-18T10:18:40.210652Z"
    }
   },
   "outputs": [
    {
     "name": "stdout",
     "output_type": "stream",
     "text": [
      "function \"word_count\" was called 1 times\n",
      "function \"word_count\" called with args: \"('whole',)\" and kwargs: \"{}\"\n",
      "function \"word_count\" took 1.9 seconds\n",
      "Cлово whole встречается 176 раз\n"
     ]
    }
   ],
   "execution_count": 8
  },
  {
   "cell_type": "code",
   "source": [
    "def fib(n):\n",
    "    if n < 2:\n",
    "        return n\n",
    "    return fib(n-2) + fib(n-1)"
   ],
   "metadata": {
    "id": "ZE4Rfn-hh3k3",
    "ExecuteTime": {
     "end_time": "2024-04-18T10:18:50.375560Z",
     "start_time": "2024-04-18T10:18:50.370838Z"
    }
   },
   "outputs": [],
   "execution_count": 9
  },
  {
   "metadata": {},
   "cell_type": "markdown",
   "source": [
    "### Комментарий\n",
    "Раз уж функция уже определена, то продемонстрирую альтернативный вызов декоратора. Хотя предпочтительней было би при определении функции задать декорацию:\n",
    "```python\n",
    "@benchmark\n",
    "def fib(n):\n",
    "    ...\n",
    "``` "
   ]
  },
  {
   "cell_type": "code",
   "source": [
    "# Для проверки на одних и тех же данных\n",
    "seed = 35\n",
    "\n",
    "# измеряем время выполнения\n",
    "benchmark(fib)(seed)"
   ],
   "metadata": {
    "id": "Io94NyjiiXG4",
    "ExecuteTime": {
     "end_time": "2024-04-18T10:18:58.339227Z",
     "start_time": "2024-04-18T10:18:55.934309Z"
    }
   },
   "outputs": [
    {
     "name": "stdout",
     "output_type": "stream",
     "text": [
      "function \"fib\" took 2.4 seconds\n"
     ]
    },
    {
     "data": {
      "text/plain": [
       "9227465"
      ]
     },
     "execution_count": 10,
     "metadata": {},
     "output_type": "execute_result"
    }
   ],
   "execution_count": 10
  },
  {
   "cell_type": "code",
   "source": [
    "@memo\n",
    "def fib(n):\n",
    "    if n < 2:\n",
    "        return n\n",
    "    return fib(n-2) + fib(n-1)"
   ],
   "metadata": {
    "id": "W9B3e-t9iTUj",
    "ExecuteTime": {
     "end_time": "2024-04-18T10:19:03.168028Z",
     "start_time": "2024-04-18T10:19:03.160336Z"
    }
   },
   "outputs": [],
   "execution_count": 11
  },
  {
   "cell_type": "code",
   "source": [
    "# измеряем время выполнения\n",
    "benchmark(fib)(100)"
   ],
   "metadata": {
    "id": "Sk6_4KQaidkh",
    "ExecuteTime": {
     "end_time": "2024-04-18T10:19:09.588898Z",
     "start_time": "2024-04-18T10:19:09.582748Z"
    }
   },
   "outputs": [
    {
     "name": "stdout",
     "output_type": "stream",
     "text": [
      "function \"fmemo\" took 0.0 seconds\n"
     ]
    },
    {
     "data": {
      "text/plain": [
       "354224848179261915075"
      ]
     },
     "execution_count": 12,
     "metadata": {},
     "output_type": "execute_result"
    }
   ],
   "execution_count": 12
  }
 ]
}
